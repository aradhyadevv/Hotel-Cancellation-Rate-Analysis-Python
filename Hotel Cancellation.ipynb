{
 "cells": [
  {
   "cell_type": "markdown",
   "id": "9e204087",
   "metadata": {},
   "source": [
    "# Importing Libraries"
   ]
  },
  {
   "cell_type": "code",
   "execution_count": 1,
   "id": "6b5650d3",
   "metadata": {},
   "outputs": [],
   "source": [
    "import pandas as pd\n",
    "import matplotlib.pyplot as plt\n",
    "import seaborn as sb\n",
    "import warnings\n",
    "warnings.filterwarnings('ignore')"
   ]
  },
  {
   "cell_type": "markdown",
   "id": "f9b36e39",
   "metadata": {},
   "source": [
    "# Loading dataset"
   ]
  },
  {
   "cell_type": "code",
   "execution_count": 2,
   "id": "da97b088",
   "metadata": {},
   "outputs": [],
   "source": [
    "df= pd.read_csv(\"hotel_bookings 2.csv\")"
   ]
  },
  {
   "cell_type": "markdown",
   "id": "0cdde5fe",
   "metadata": {},
   "source": [
    "# Data Exploration"
   ]
  },
  {
   "cell_type": "code",
   "execution_count": 3,
   "id": "f0b79784",
   "metadata": {},
   "outputs": [
    {
     "data": {
      "text/html": [
       "<div>\n",
       "<style scoped>\n",
       "    .dataframe tbody tr th:only-of-type {\n",
       "        vertical-align: middle;\n",
       "    }\n",
       "\n",
       "    .dataframe tbody tr th {\n",
       "        vertical-align: top;\n",
       "    }\n",
       "\n",
       "    .dataframe thead th {\n",
       "        text-align: right;\n",
       "    }\n",
       "</style>\n",
       "<table border=\"1\" class=\"dataframe\">\n",
       "  <thead>\n",
       "    <tr style=\"text-align: right;\">\n",
       "      <th></th>\n",
       "      <th>hotel</th>\n",
       "      <th>is_canceled</th>\n",
       "      <th>lead_time</th>\n",
       "      <th>arrival_date_year</th>\n",
       "      <th>arrival_date_month</th>\n",
       "      <th>arrival_date_week_number</th>\n",
       "      <th>arrival_date_day_of_month</th>\n",
       "      <th>stays_in_weekend_nights</th>\n",
       "      <th>stays_in_week_nights</th>\n",
       "      <th>adults</th>\n",
       "      <th>...</th>\n",
       "      <th>deposit_type</th>\n",
       "      <th>agent</th>\n",
       "      <th>company</th>\n",
       "      <th>days_in_waiting_list</th>\n",
       "      <th>customer_type</th>\n",
       "      <th>adr</th>\n",
       "      <th>required_car_parking_spaces</th>\n",
       "      <th>total_of_special_requests</th>\n",
       "      <th>reservation_status</th>\n",
       "      <th>reservation_status_date</th>\n",
       "    </tr>\n",
       "  </thead>\n",
       "  <tbody>\n",
       "    <tr>\n",
       "      <th>0</th>\n",
       "      <td>Resort Hotel</td>\n",
       "      <td>0</td>\n",
       "      <td>342</td>\n",
       "      <td>2015</td>\n",
       "      <td>July</td>\n",
       "      <td>27</td>\n",
       "      <td>1</td>\n",
       "      <td>0</td>\n",
       "      <td>0</td>\n",
       "      <td>2</td>\n",
       "      <td>...</td>\n",
       "      <td>No Deposit</td>\n",
       "      <td>NaN</td>\n",
       "      <td>NaN</td>\n",
       "      <td>0</td>\n",
       "      <td>Transient</td>\n",
       "      <td>0.00</td>\n",
       "      <td>0</td>\n",
       "      <td>0</td>\n",
       "      <td>Check-Out</td>\n",
       "      <td>1/7/2015</td>\n",
       "    </tr>\n",
       "    <tr>\n",
       "      <th>1</th>\n",
       "      <td>Resort Hotel</td>\n",
       "      <td>0</td>\n",
       "      <td>737</td>\n",
       "      <td>2015</td>\n",
       "      <td>July</td>\n",
       "      <td>27</td>\n",
       "      <td>1</td>\n",
       "      <td>0</td>\n",
       "      <td>0</td>\n",
       "      <td>2</td>\n",
       "      <td>...</td>\n",
       "      <td>No Deposit</td>\n",
       "      <td>NaN</td>\n",
       "      <td>NaN</td>\n",
       "      <td>0</td>\n",
       "      <td>Transient</td>\n",
       "      <td>0.00</td>\n",
       "      <td>0</td>\n",
       "      <td>0</td>\n",
       "      <td>Check-Out</td>\n",
       "      <td>1/7/2015</td>\n",
       "    </tr>\n",
       "    <tr>\n",
       "      <th>2</th>\n",
       "      <td>Resort Hotel</td>\n",
       "      <td>0</td>\n",
       "      <td>7</td>\n",
       "      <td>2015</td>\n",
       "      <td>July</td>\n",
       "      <td>27</td>\n",
       "      <td>1</td>\n",
       "      <td>0</td>\n",
       "      <td>1</td>\n",
       "      <td>1</td>\n",
       "      <td>...</td>\n",
       "      <td>No Deposit</td>\n",
       "      <td>NaN</td>\n",
       "      <td>NaN</td>\n",
       "      <td>0</td>\n",
       "      <td>Transient</td>\n",
       "      <td>75.00</td>\n",
       "      <td>0</td>\n",
       "      <td>0</td>\n",
       "      <td>Check-Out</td>\n",
       "      <td>2/7/2015</td>\n",
       "    </tr>\n",
       "    <tr>\n",
       "      <th>3</th>\n",
       "      <td>Resort Hotel</td>\n",
       "      <td>0</td>\n",
       "      <td>13</td>\n",
       "      <td>2015</td>\n",
       "      <td>July</td>\n",
       "      <td>27</td>\n",
       "      <td>1</td>\n",
       "      <td>0</td>\n",
       "      <td>1</td>\n",
       "      <td>1</td>\n",
       "      <td>...</td>\n",
       "      <td>No Deposit</td>\n",
       "      <td>304.0</td>\n",
       "      <td>NaN</td>\n",
       "      <td>0</td>\n",
       "      <td>Transient</td>\n",
       "      <td>75.00</td>\n",
       "      <td>0</td>\n",
       "      <td>0</td>\n",
       "      <td>Check-Out</td>\n",
       "      <td>2/7/2015</td>\n",
       "    </tr>\n",
       "    <tr>\n",
       "      <th>4</th>\n",
       "      <td>Resort Hotel</td>\n",
       "      <td>0</td>\n",
       "      <td>14</td>\n",
       "      <td>2015</td>\n",
       "      <td>July</td>\n",
       "      <td>27</td>\n",
       "      <td>1</td>\n",
       "      <td>0</td>\n",
       "      <td>2</td>\n",
       "      <td>2</td>\n",
       "      <td>...</td>\n",
       "      <td>No Deposit</td>\n",
       "      <td>240.0</td>\n",
       "      <td>NaN</td>\n",
       "      <td>0</td>\n",
       "      <td>Transient</td>\n",
       "      <td>98.00</td>\n",
       "      <td>0</td>\n",
       "      <td>1</td>\n",
       "      <td>Check-Out</td>\n",
       "      <td>3/7/2015</td>\n",
       "    </tr>\n",
       "    <tr>\n",
       "      <th>...</th>\n",
       "      <td>...</td>\n",
       "      <td>...</td>\n",
       "      <td>...</td>\n",
       "      <td>...</td>\n",
       "      <td>...</td>\n",
       "      <td>...</td>\n",
       "      <td>...</td>\n",
       "      <td>...</td>\n",
       "      <td>...</td>\n",
       "      <td>...</td>\n",
       "      <td>...</td>\n",
       "      <td>...</td>\n",
       "      <td>...</td>\n",
       "      <td>...</td>\n",
       "      <td>...</td>\n",
       "      <td>...</td>\n",
       "      <td>...</td>\n",
       "      <td>...</td>\n",
       "      <td>...</td>\n",
       "      <td>...</td>\n",
       "      <td>...</td>\n",
       "    </tr>\n",
       "    <tr>\n",
       "      <th>119385</th>\n",
       "      <td>City Hotel</td>\n",
       "      <td>0</td>\n",
       "      <td>23</td>\n",
       "      <td>2017</td>\n",
       "      <td>August</td>\n",
       "      <td>35</td>\n",
       "      <td>30</td>\n",
       "      <td>2</td>\n",
       "      <td>5</td>\n",
       "      <td>2</td>\n",
       "      <td>...</td>\n",
       "      <td>No Deposit</td>\n",
       "      <td>394.0</td>\n",
       "      <td>NaN</td>\n",
       "      <td>0</td>\n",
       "      <td>Transient</td>\n",
       "      <td>96.14</td>\n",
       "      <td>0</td>\n",
       "      <td>0</td>\n",
       "      <td>Check-Out</td>\n",
       "      <td>6/9/2017</td>\n",
       "    </tr>\n",
       "    <tr>\n",
       "      <th>119386</th>\n",
       "      <td>City Hotel</td>\n",
       "      <td>0</td>\n",
       "      <td>102</td>\n",
       "      <td>2017</td>\n",
       "      <td>August</td>\n",
       "      <td>35</td>\n",
       "      <td>31</td>\n",
       "      <td>2</td>\n",
       "      <td>5</td>\n",
       "      <td>3</td>\n",
       "      <td>...</td>\n",
       "      <td>No Deposit</td>\n",
       "      <td>9.0</td>\n",
       "      <td>NaN</td>\n",
       "      <td>0</td>\n",
       "      <td>Transient</td>\n",
       "      <td>225.43</td>\n",
       "      <td>0</td>\n",
       "      <td>2</td>\n",
       "      <td>Check-Out</td>\n",
       "      <td>7/9/2017</td>\n",
       "    </tr>\n",
       "    <tr>\n",
       "      <th>119387</th>\n",
       "      <td>City Hotel</td>\n",
       "      <td>0</td>\n",
       "      <td>34</td>\n",
       "      <td>2017</td>\n",
       "      <td>August</td>\n",
       "      <td>35</td>\n",
       "      <td>31</td>\n",
       "      <td>2</td>\n",
       "      <td>5</td>\n",
       "      <td>2</td>\n",
       "      <td>...</td>\n",
       "      <td>No Deposit</td>\n",
       "      <td>9.0</td>\n",
       "      <td>NaN</td>\n",
       "      <td>0</td>\n",
       "      <td>Transient</td>\n",
       "      <td>157.71</td>\n",
       "      <td>0</td>\n",
       "      <td>4</td>\n",
       "      <td>Check-Out</td>\n",
       "      <td>7/9/2017</td>\n",
       "    </tr>\n",
       "    <tr>\n",
       "      <th>119388</th>\n",
       "      <td>City Hotel</td>\n",
       "      <td>0</td>\n",
       "      <td>109</td>\n",
       "      <td>2017</td>\n",
       "      <td>August</td>\n",
       "      <td>35</td>\n",
       "      <td>31</td>\n",
       "      <td>2</td>\n",
       "      <td>5</td>\n",
       "      <td>2</td>\n",
       "      <td>...</td>\n",
       "      <td>No Deposit</td>\n",
       "      <td>89.0</td>\n",
       "      <td>NaN</td>\n",
       "      <td>0</td>\n",
       "      <td>Transient</td>\n",
       "      <td>104.40</td>\n",
       "      <td>0</td>\n",
       "      <td>0</td>\n",
       "      <td>Check-Out</td>\n",
       "      <td>7/9/2017</td>\n",
       "    </tr>\n",
       "    <tr>\n",
       "      <th>119389</th>\n",
       "      <td>City Hotel</td>\n",
       "      <td>0</td>\n",
       "      <td>205</td>\n",
       "      <td>2017</td>\n",
       "      <td>August</td>\n",
       "      <td>35</td>\n",
       "      <td>29</td>\n",
       "      <td>2</td>\n",
       "      <td>7</td>\n",
       "      <td>2</td>\n",
       "      <td>...</td>\n",
       "      <td>No Deposit</td>\n",
       "      <td>9.0</td>\n",
       "      <td>NaN</td>\n",
       "      <td>0</td>\n",
       "      <td>Transient</td>\n",
       "      <td>151.20</td>\n",
       "      <td>0</td>\n",
       "      <td>2</td>\n",
       "      <td>Check-Out</td>\n",
       "      <td>7/9/2017</td>\n",
       "    </tr>\n",
       "  </tbody>\n",
       "</table>\n",
       "<p>119390 rows × 32 columns</p>\n",
       "</div>"
      ],
      "text/plain": [
       "               hotel  is_canceled  lead_time  arrival_date_year  \\\n",
       "0       Resort Hotel            0        342               2015   \n",
       "1       Resort Hotel            0        737               2015   \n",
       "2       Resort Hotel            0          7               2015   \n",
       "3       Resort Hotel            0         13               2015   \n",
       "4       Resort Hotel            0         14               2015   \n",
       "...              ...          ...        ...                ...   \n",
       "119385    City Hotel            0         23               2017   \n",
       "119386    City Hotel            0        102               2017   \n",
       "119387    City Hotel            0         34               2017   \n",
       "119388    City Hotel            0        109               2017   \n",
       "119389    City Hotel            0        205               2017   \n",
       "\n",
       "       arrival_date_month  arrival_date_week_number  \\\n",
       "0                    July                        27   \n",
       "1                    July                        27   \n",
       "2                    July                        27   \n",
       "3                    July                        27   \n",
       "4                    July                        27   \n",
       "...                   ...                       ...   \n",
       "119385             August                        35   \n",
       "119386             August                        35   \n",
       "119387             August                        35   \n",
       "119388             August                        35   \n",
       "119389             August                        35   \n",
       "\n",
       "        arrival_date_day_of_month  stays_in_weekend_nights  \\\n",
       "0                               1                        0   \n",
       "1                               1                        0   \n",
       "2                               1                        0   \n",
       "3                               1                        0   \n",
       "4                               1                        0   \n",
       "...                           ...                      ...   \n",
       "119385                         30                        2   \n",
       "119386                         31                        2   \n",
       "119387                         31                        2   \n",
       "119388                         31                        2   \n",
       "119389                         29                        2   \n",
       "\n",
       "        stays_in_week_nights  adults  ...  deposit_type  agent company  \\\n",
       "0                          0       2  ...    No Deposit    NaN     NaN   \n",
       "1                          0       2  ...    No Deposit    NaN     NaN   \n",
       "2                          1       1  ...    No Deposit    NaN     NaN   \n",
       "3                          1       1  ...    No Deposit  304.0     NaN   \n",
       "4                          2       2  ...    No Deposit  240.0     NaN   \n",
       "...                      ...     ...  ...           ...    ...     ...   \n",
       "119385                     5       2  ...    No Deposit  394.0     NaN   \n",
       "119386                     5       3  ...    No Deposit    9.0     NaN   \n",
       "119387                     5       2  ...    No Deposit    9.0     NaN   \n",
       "119388                     5       2  ...    No Deposit   89.0     NaN   \n",
       "119389                     7       2  ...    No Deposit    9.0     NaN   \n",
       "\n",
       "       days_in_waiting_list customer_type     adr  \\\n",
       "0                         0     Transient    0.00   \n",
       "1                         0     Transient    0.00   \n",
       "2                         0     Transient   75.00   \n",
       "3                         0     Transient   75.00   \n",
       "4                         0     Transient   98.00   \n",
       "...                     ...           ...     ...   \n",
       "119385                    0     Transient   96.14   \n",
       "119386                    0     Transient  225.43   \n",
       "119387                    0     Transient  157.71   \n",
       "119388                    0     Transient  104.40   \n",
       "119389                    0     Transient  151.20   \n",
       "\n",
       "        required_car_parking_spaces  total_of_special_requests  \\\n",
       "0                                 0                          0   \n",
       "1                                 0                          0   \n",
       "2                                 0                          0   \n",
       "3                                 0                          0   \n",
       "4                                 0                          1   \n",
       "...                             ...                        ...   \n",
       "119385                            0                          0   \n",
       "119386                            0                          2   \n",
       "119387                            0                          4   \n",
       "119388                            0                          0   \n",
       "119389                            0                          2   \n",
       "\n",
       "        reservation_status reservation_status_date  \n",
       "0                Check-Out                1/7/2015  \n",
       "1                Check-Out                1/7/2015  \n",
       "2                Check-Out                2/7/2015  \n",
       "3                Check-Out                2/7/2015  \n",
       "4                Check-Out                3/7/2015  \n",
       "...                    ...                     ...  \n",
       "119385           Check-Out                6/9/2017  \n",
       "119386           Check-Out                7/9/2017  \n",
       "119387           Check-Out                7/9/2017  \n",
       "119388           Check-Out                7/9/2017  \n",
       "119389           Check-Out                7/9/2017  \n",
       "\n",
       "[119390 rows x 32 columns]"
      ]
     },
     "execution_count": 3,
     "metadata": {},
     "output_type": "execute_result"
    }
   ],
   "source": [
    "df"
   ]
  },
  {
   "cell_type": "code",
   "execution_count": 4,
   "id": "7fd61d3a",
   "metadata": {},
   "outputs": [
    {
     "data": {
      "text/html": [
       "<div>\n",
       "<style scoped>\n",
       "    .dataframe tbody tr th:only-of-type {\n",
       "        vertical-align: middle;\n",
       "    }\n",
       "\n",
       "    .dataframe tbody tr th {\n",
       "        vertical-align: top;\n",
       "    }\n",
       "\n",
       "    .dataframe thead th {\n",
       "        text-align: right;\n",
       "    }\n",
       "</style>\n",
       "<table border=\"1\" class=\"dataframe\">\n",
       "  <thead>\n",
       "    <tr style=\"text-align: right;\">\n",
       "      <th></th>\n",
       "      <th>hotel</th>\n",
       "      <th>arrival_date_month</th>\n",
       "      <th>meal</th>\n",
       "      <th>country</th>\n",
       "      <th>market_segment</th>\n",
       "      <th>distribution_channel</th>\n",
       "      <th>reserved_room_type</th>\n",
       "      <th>assigned_room_type</th>\n",
       "      <th>deposit_type</th>\n",
       "      <th>customer_type</th>\n",
       "      <th>reservation_status</th>\n",
       "      <th>reservation_status_date</th>\n",
       "    </tr>\n",
       "  </thead>\n",
       "  <tbody>\n",
       "    <tr>\n",
       "      <th>0</th>\n",
       "      <td>Resort Hotel</td>\n",
       "      <td>July</td>\n",
       "      <td>BB</td>\n",
       "      <td>PRT</td>\n",
       "      <td>Direct</td>\n",
       "      <td>Direct</td>\n",
       "      <td>C</td>\n",
       "      <td>C</td>\n",
       "      <td>No Deposit</td>\n",
       "      <td>Transient</td>\n",
       "      <td>Check-Out</td>\n",
       "      <td>1/7/2015</td>\n",
       "    </tr>\n",
       "    <tr>\n",
       "      <th>1</th>\n",
       "      <td>Resort Hotel</td>\n",
       "      <td>July</td>\n",
       "      <td>BB</td>\n",
       "      <td>PRT</td>\n",
       "      <td>Direct</td>\n",
       "      <td>Direct</td>\n",
       "      <td>C</td>\n",
       "      <td>C</td>\n",
       "      <td>No Deposit</td>\n",
       "      <td>Transient</td>\n",
       "      <td>Check-Out</td>\n",
       "      <td>1/7/2015</td>\n",
       "    </tr>\n",
       "    <tr>\n",
       "      <th>2</th>\n",
       "      <td>Resort Hotel</td>\n",
       "      <td>July</td>\n",
       "      <td>BB</td>\n",
       "      <td>GBR</td>\n",
       "      <td>Direct</td>\n",
       "      <td>Direct</td>\n",
       "      <td>A</td>\n",
       "      <td>C</td>\n",
       "      <td>No Deposit</td>\n",
       "      <td>Transient</td>\n",
       "      <td>Check-Out</td>\n",
       "      <td>2/7/2015</td>\n",
       "    </tr>\n",
       "    <tr>\n",
       "      <th>3</th>\n",
       "      <td>Resort Hotel</td>\n",
       "      <td>July</td>\n",
       "      <td>BB</td>\n",
       "      <td>GBR</td>\n",
       "      <td>Corporate</td>\n",
       "      <td>Corporate</td>\n",
       "      <td>A</td>\n",
       "      <td>A</td>\n",
       "      <td>No Deposit</td>\n",
       "      <td>Transient</td>\n",
       "      <td>Check-Out</td>\n",
       "      <td>2/7/2015</td>\n",
       "    </tr>\n",
       "    <tr>\n",
       "      <th>4</th>\n",
       "      <td>Resort Hotel</td>\n",
       "      <td>July</td>\n",
       "      <td>BB</td>\n",
       "      <td>GBR</td>\n",
       "      <td>Online TA</td>\n",
       "      <td>TA/TO</td>\n",
       "      <td>A</td>\n",
       "      <td>A</td>\n",
       "      <td>No Deposit</td>\n",
       "      <td>Transient</td>\n",
       "      <td>Check-Out</td>\n",
       "      <td>3/7/2015</td>\n",
       "    </tr>\n",
       "    <tr>\n",
       "      <th>...</th>\n",
       "      <td>...</td>\n",
       "      <td>...</td>\n",
       "      <td>...</td>\n",
       "      <td>...</td>\n",
       "      <td>...</td>\n",
       "      <td>...</td>\n",
       "      <td>...</td>\n",
       "      <td>...</td>\n",
       "      <td>...</td>\n",
       "      <td>...</td>\n",
       "      <td>...</td>\n",
       "      <td>...</td>\n",
       "    </tr>\n",
       "    <tr>\n",
       "      <th>119385</th>\n",
       "      <td>City Hotel</td>\n",
       "      <td>August</td>\n",
       "      <td>BB</td>\n",
       "      <td>BEL</td>\n",
       "      <td>Offline TA/TO</td>\n",
       "      <td>TA/TO</td>\n",
       "      <td>A</td>\n",
       "      <td>A</td>\n",
       "      <td>No Deposit</td>\n",
       "      <td>Transient</td>\n",
       "      <td>Check-Out</td>\n",
       "      <td>6/9/2017</td>\n",
       "    </tr>\n",
       "    <tr>\n",
       "      <th>119386</th>\n",
       "      <td>City Hotel</td>\n",
       "      <td>August</td>\n",
       "      <td>BB</td>\n",
       "      <td>FRA</td>\n",
       "      <td>Online TA</td>\n",
       "      <td>TA/TO</td>\n",
       "      <td>E</td>\n",
       "      <td>E</td>\n",
       "      <td>No Deposit</td>\n",
       "      <td>Transient</td>\n",
       "      <td>Check-Out</td>\n",
       "      <td>7/9/2017</td>\n",
       "    </tr>\n",
       "    <tr>\n",
       "      <th>119387</th>\n",
       "      <td>City Hotel</td>\n",
       "      <td>August</td>\n",
       "      <td>BB</td>\n",
       "      <td>DEU</td>\n",
       "      <td>Online TA</td>\n",
       "      <td>TA/TO</td>\n",
       "      <td>D</td>\n",
       "      <td>D</td>\n",
       "      <td>No Deposit</td>\n",
       "      <td>Transient</td>\n",
       "      <td>Check-Out</td>\n",
       "      <td>7/9/2017</td>\n",
       "    </tr>\n",
       "    <tr>\n",
       "      <th>119388</th>\n",
       "      <td>City Hotel</td>\n",
       "      <td>August</td>\n",
       "      <td>BB</td>\n",
       "      <td>GBR</td>\n",
       "      <td>Online TA</td>\n",
       "      <td>TA/TO</td>\n",
       "      <td>A</td>\n",
       "      <td>A</td>\n",
       "      <td>No Deposit</td>\n",
       "      <td>Transient</td>\n",
       "      <td>Check-Out</td>\n",
       "      <td>7/9/2017</td>\n",
       "    </tr>\n",
       "    <tr>\n",
       "      <th>119389</th>\n",
       "      <td>City Hotel</td>\n",
       "      <td>August</td>\n",
       "      <td>HB</td>\n",
       "      <td>DEU</td>\n",
       "      <td>Online TA</td>\n",
       "      <td>TA/TO</td>\n",
       "      <td>A</td>\n",
       "      <td>A</td>\n",
       "      <td>No Deposit</td>\n",
       "      <td>Transient</td>\n",
       "      <td>Check-Out</td>\n",
       "      <td>7/9/2017</td>\n",
       "    </tr>\n",
       "  </tbody>\n",
       "</table>\n",
       "<p>119390 rows × 12 columns</p>\n",
       "</div>"
      ],
      "text/plain": [
       "               hotel arrival_date_month meal country market_segment  \\\n",
       "0       Resort Hotel               July   BB     PRT         Direct   \n",
       "1       Resort Hotel               July   BB     PRT         Direct   \n",
       "2       Resort Hotel               July   BB     GBR         Direct   \n",
       "3       Resort Hotel               July   BB     GBR      Corporate   \n",
       "4       Resort Hotel               July   BB     GBR      Online TA   \n",
       "...              ...                ...  ...     ...            ...   \n",
       "119385    City Hotel             August   BB     BEL  Offline TA/TO   \n",
       "119386    City Hotel             August   BB     FRA      Online TA   \n",
       "119387    City Hotel             August   BB     DEU      Online TA   \n",
       "119388    City Hotel             August   BB     GBR      Online TA   \n",
       "119389    City Hotel             August   HB     DEU      Online TA   \n",
       "\n",
       "       distribution_channel reserved_room_type assigned_room_type  \\\n",
       "0                    Direct                  C                  C   \n",
       "1                    Direct                  C                  C   \n",
       "2                    Direct                  A                  C   \n",
       "3                 Corporate                  A                  A   \n",
       "4                     TA/TO                  A                  A   \n",
       "...                     ...                ...                ...   \n",
       "119385                TA/TO                  A                  A   \n",
       "119386                TA/TO                  E                  E   \n",
       "119387                TA/TO                  D                  D   \n",
       "119388                TA/TO                  A                  A   \n",
       "119389                TA/TO                  A                  A   \n",
       "\n",
       "       deposit_type customer_type reservation_status reservation_status_date  \n",
       "0        No Deposit     Transient          Check-Out                1/7/2015  \n",
       "1        No Deposit     Transient          Check-Out                1/7/2015  \n",
       "2        No Deposit     Transient          Check-Out                2/7/2015  \n",
       "3        No Deposit     Transient          Check-Out                2/7/2015  \n",
       "4        No Deposit     Transient          Check-Out                3/7/2015  \n",
       "...             ...           ...                ...                     ...  \n",
       "119385   No Deposit     Transient          Check-Out                6/9/2017  \n",
       "119386   No Deposit     Transient          Check-Out                7/9/2017  \n",
       "119387   No Deposit     Transient          Check-Out                7/9/2017  \n",
       "119388   No Deposit     Transient          Check-Out                7/9/2017  \n",
       "119389   No Deposit     Transient          Check-Out                7/9/2017  \n",
       "\n",
       "[119390 rows x 12 columns]"
      ]
     },
     "execution_count": 4,
     "metadata": {},
     "output_type": "execute_result"
    }
   ],
   "source": [
    "df.select_dtypes(include=['object'])"
   ]
  },
  {
   "cell_type": "code",
   "execution_count": 5,
   "id": "c1be6807",
   "metadata": {},
   "outputs": [
    {
     "data": {
      "text/plain": [
       "Index(['hotel', 'is_canceled', 'lead_time', 'arrival_date_year',\n",
       "       'arrival_date_month', 'arrival_date_week_number',\n",
       "       'arrival_date_day_of_month', 'stays_in_weekend_nights',\n",
       "       'stays_in_week_nights', 'adults', 'children', 'babies', 'meal',\n",
       "       'country', 'market_segment', 'distribution_channel',\n",
       "       'is_repeated_guest', 'previous_cancellations',\n",
       "       'previous_bookings_not_canceled', 'reserved_room_type',\n",
       "       'assigned_room_type', 'booking_changes', 'deposit_type', 'agent',\n",
       "       'company', 'days_in_waiting_list', 'customer_type', 'adr',\n",
       "       'required_car_parking_spaces', 'total_of_special_requests',\n",
       "       'reservation_status', 'reservation_status_date'],\n",
       "      dtype='object')"
      ]
     },
     "execution_count": 5,
     "metadata": {},
     "output_type": "execute_result"
    }
   ],
   "source": [
    "df.columns"
   ]
  },
  {
   "cell_type": "markdown",
   "id": "5c6529ad",
   "metadata": {},
   "source": [
    "dtype of dataframe is object because elements of the index are strings or a mix of different types that are collectively interpreted as objects\n"
   ]
  },
  {
   "cell_type": "code",
   "execution_count": 6,
   "id": "4fe29863",
   "metadata": {},
   "outputs": [
    {
     "name": "stdout",
     "output_type": "stream",
     "text": [
      "<class 'pandas.core.frame.DataFrame'>\n",
      "RangeIndex: 119390 entries, 0 to 119389\n",
      "Data columns (total 32 columns):\n",
      " #   Column                          Non-Null Count   Dtype  \n",
      "---  ------                          --------------   -----  \n",
      " 0   hotel                           119390 non-null  object \n",
      " 1   is_canceled                     119390 non-null  int64  \n",
      " 2   lead_time                       119390 non-null  int64  \n",
      " 3   arrival_date_year               119390 non-null  int64  \n",
      " 4   arrival_date_month              119390 non-null  object \n",
      " 5   arrival_date_week_number        119390 non-null  int64  \n",
      " 6   arrival_date_day_of_month       119390 non-null  int64  \n",
      " 7   stays_in_weekend_nights         119390 non-null  int64  \n",
      " 8   stays_in_week_nights            119390 non-null  int64  \n",
      " 9   adults                          119390 non-null  int64  \n",
      " 10  children                        119386 non-null  float64\n",
      " 11  babies                          119390 non-null  int64  \n",
      " 12  meal                            119390 non-null  object \n",
      " 13  country                         118902 non-null  object \n",
      " 14  market_segment                  119390 non-null  object \n",
      " 15  distribution_channel            119390 non-null  object \n",
      " 16  is_repeated_guest               119390 non-null  int64  \n",
      " 17  previous_cancellations          119390 non-null  int64  \n",
      " 18  previous_bookings_not_canceled  119390 non-null  int64  \n",
      " 19  reserved_room_type              119390 non-null  object \n",
      " 20  assigned_room_type              119390 non-null  object \n",
      " 21  booking_changes                 119390 non-null  int64  \n",
      " 22  deposit_type                    119390 non-null  object \n",
      " 23  agent                           103050 non-null  float64\n",
      " 24  company                         6797 non-null    float64\n",
      " 25  days_in_waiting_list            119390 non-null  int64  \n",
      " 26  customer_type                   119390 non-null  object \n",
      " 27  adr                             119390 non-null  float64\n",
      " 28  required_car_parking_spaces     119390 non-null  int64  \n",
      " 29  total_of_special_requests       119390 non-null  int64  \n",
      " 30  reservation_status              119390 non-null  object \n",
      " 31  reservation_status_date         119390 non-null  object \n",
      "dtypes: float64(4), int64(16), object(12)\n",
      "memory usage: 29.1+ MB\n"
     ]
    }
   ],
   "source": [
    "df.info()"
   ]
  },
  {
   "cell_type": "markdown",
   "id": "8deec907",
   "metadata": {},
   "source": [
    "Let's understand the data and what these columns are containing"
   ]
  },
  {
   "cell_type": "code",
   "execution_count": 7,
   "id": "c8ad433f",
   "metadata": {},
   "outputs": [
    {
     "data": {
      "text/plain": [
       "array([0, 1])"
      ]
     },
     "execution_count": 7,
     "metadata": {},
     "output_type": "execute_result"
    }
   ],
   "source": [
    "df['is_canceled'].unique()"
   ]
  },
  {
   "cell_type": "code",
   "execution_count": 8,
   "id": "0749679f",
   "metadata": {},
   "outputs": [
    {
     "data": {
      "text/plain": [
       "array(['No Deposit', 'Refundable', 'Non Refund'], dtype=object)"
      ]
     },
     "execution_count": 8,
     "metadata": {},
     "output_type": "execute_result"
    }
   ],
   "source": [
    "df['deposit_type'].unique()"
   ]
  },
  {
   "cell_type": "code",
   "execution_count": 9,
   "id": "1aea7c41",
   "metadata": {},
   "outputs": [
    {
     "data": {
      "text/plain": [
       "78904      1.0\n",
       "1485     250.0\n",
       "90916      6.0\n",
       "44920      3.0\n",
       "46839      9.0\n",
       "Name: agent, dtype: float64"
      ]
     },
     "execution_count": 9,
     "metadata": {},
     "output_type": "execute_result"
    }
   ],
   "source": [
    "df['agent'].sample(5)"
   ]
  },
  {
   "cell_type": "code",
   "execution_count": 10,
   "id": "76ac7912",
   "metadata": {},
   "outputs": [
    {
     "data": {
      "text/plain": [
       "16340"
      ]
     },
     "execution_count": 10,
     "metadata": {},
     "output_type": "execute_result"
    }
   ],
   "source": [
    "df['agent'].isnull().sum()"
   ]
  },
  {
   "cell_type": "markdown",
   "id": "7b2a1f05",
   "metadata": {},
   "source": [
    "Didn't find any use of the agent column and it has so many null values too, so I will drop it"
   ]
  },
  {
   "cell_type": "code",
   "execution_count": 11,
   "id": "0641eeb3",
   "metadata": {},
   "outputs": [
    {
     "data": {
      "text/plain": [
       "array([ nan, 110., 113., 270., 178., 240., 154., 144., 307., 268.,  59.,\n",
       "       204., 312., 318.,  94., 174., 274., 195., 223., 317., 281., 118.,\n",
       "        53., 286.,  12.,  47., 324., 342., 373., 371., 383.,  86.,  82.,\n",
       "       218.,  88.,  31., 397., 392., 405., 331., 367.,  20.,  83., 416.,\n",
       "        51., 395., 102.,  34.,  84., 360., 394., 457., 382., 461., 478.,\n",
       "       386., 112., 486., 421.,   9., 308., 135., 224., 504., 269., 356.,\n",
       "       498., 390., 513., 203., 263., 477., 521., 169., 515., 445., 337.,\n",
       "       251., 428., 292., 388., 130., 250., 355., 254., 543., 531., 528.,\n",
       "        62., 120.,  42.,  81., 116., 530., 103.,  39.,  16.,  92.,  61.,\n",
       "       501., 165., 291., 290.,  43., 325., 192., 108., 200., 465., 287.,\n",
       "       297., 490., 482., 207., 282., 437., 225., 329., 272.,  28.,  77.,\n",
       "       338.,  72., 246., 319., 146., 159., 380., 323., 511., 407., 278.,\n",
       "        80., 403., 399.,  14., 137., 343., 346., 347., 349., 289., 351.,\n",
       "       353.,  54.,  99., 358., 361., 362., 366., 372., 365., 277., 109.,\n",
       "       377., 379.,  22., 378., 330., 364., 401., 232., 255., 384., 167.,\n",
       "       212., 514., 391., 400., 376., 402., 396., 302., 398.,   6., 370.,\n",
       "       369., 409., 168., 104., 408., 413., 148.,  10., 333., 419., 415.,\n",
       "       424., 425., 423., 422., 435., 439., 442., 448., 443., 454., 444.,\n",
       "        52., 459., 458., 456., 460., 447., 470., 466., 484., 184., 485.,\n",
       "        32., 487., 491., 494., 193., 516., 496., 499.,  29.,  78., 520.,\n",
       "       507., 506., 512., 126.,  64., 242., 518., 523., 539., 534., 436.,\n",
       "       525., 541.,  40., 455., 410.,  45.,  38.,  49.,  48.,  67.,  68.,\n",
       "        65.,  91.,  37.,   8., 179., 209., 219., 221., 227., 153., 186.,\n",
       "       253., 202., 216., 275., 233., 280., 309., 321.,  93., 316.,  85.,\n",
       "       107., 350., 279., 334., 348., 150.,  73., 385., 418., 197., 450.,\n",
       "       452., 115.,  46.,  76.,  96., 100., 105., 101., 122.,  11., 139.,\n",
       "       142., 127., 143., 140., 149., 163., 160., 180., 238., 183., 222.,\n",
       "       185., 217., 215., 213., 237., 230., 234.,  35., 245., 158., 258.,\n",
       "       259., 260., 411., 257., 271.,  18., 106., 210., 273.,  71., 284.,\n",
       "       301., 305., 293., 264., 311., 304., 313., 288., 320., 314., 332.,\n",
       "       341., 352., 243., 368., 393., 132., 220., 412., 420., 426., 417.,\n",
       "       429., 433., 446., 357., 479., 483., 489., 229., 481., 497., 451.,\n",
       "       492.])"
      ]
     },
     "execution_count": 11,
     "metadata": {},
     "output_type": "execute_result"
    }
   ],
   "source": [
    "df['company'].unique()"
   ]
  },
  {
   "cell_type": "code",
   "execution_count": 12,
   "id": "592f0ee1",
   "metadata": {},
   "outputs": [
    {
     "data": {
      "text/plain": [
       "108370   NaN\n",
       "47074    NaN\n",
       "22164    NaN\n",
       "79424    NaN\n",
       "65261    NaN\n",
       "53684    NaN\n",
       "42598    NaN\n",
       "73074    NaN\n",
       "51898    NaN\n",
       "45246    NaN\n",
       "29436    NaN\n",
       "15650    NaN\n",
       "66665    NaN\n",
       "96270    NaN\n",
       "89712    NaN\n",
       "Name: company, dtype: float64"
      ]
     },
     "execution_count": 12,
     "metadata": {},
     "output_type": "execute_result"
    }
   ],
   "source": [
    "df['company'].sample(15)"
   ]
  },
  {
   "cell_type": "code",
   "execution_count": 13,
   "id": "74b448e3",
   "metadata": {},
   "outputs": [
    {
     "data": {
      "text/plain": [
       "112593"
      ]
     },
     "execution_count": 13,
     "metadata": {},
     "output_type": "execute_result"
    }
   ],
   "source": [
    "df['company'].isnull().sum()"
   ]
  },
  {
   "cell_type": "markdown",
   "id": "f257cd18",
   "metadata": {},
   "source": [
    "Out of 119300 rows of company column, 112593 are null (NaN), so we will drop it, as also, it is of no use in my case"
   ]
  },
  {
   "cell_type": "code",
   "execution_count": 14,
   "id": "214b945e",
   "metadata": {},
   "outputs": [
    {
     "data": {
      "text/plain": [
       "array(['Transient', 'Contract', 'Transient-Party', 'Group'], dtype=object)"
      ]
     },
     "execution_count": 14,
     "metadata": {},
     "output_type": "execute_result"
    }
   ],
   "source": [
    "df['customer_type'].unique()"
   ]
  },
  {
   "cell_type": "markdown",
   "id": "982e1e37",
   "metadata": {},
   "source": [
    "customer_type column could be useful while analysing"
   ]
  },
  {
   "cell_type": "code",
   "execution_count": 15,
   "id": "9d61767d",
   "metadata": {},
   "outputs": [
    {
     "data": {
      "text/plain": [
       "array(['Check-Out', 'Canceled', 'No-Show'], dtype=object)"
      ]
     },
     "execution_count": 15,
     "metadata": {},
     "output_type": "execute_result"
    }
   ],
   "source": [
    "df['reservation_status'].unique()"
   ]
  },
  {
   "cell_type": "markdown",
   "id": "7728e413",
   "metadata": {},
   "source": [
    "reservation_status column would be of no use, but I'd still like to keep it in the dataset"
   ]
  },
  {
   "cell_type": "code",
   "execution_count": 16,
   "id": "4978361f",
   "metadata": {},
   "outputs": [
    {
     "data": {
      "text/plain": [
       "177"
      ]
     },
     "execution_count": 16,
     "metadata": {},
     "output_type": "execute_result"
    }
   ],
   "source": [
    "df['country'].nunique()"
   ]
  },
  {
   "cell_type": "markdown",
   "id": "a15df315",
   "metadata": {},
   "source": [
    "# Data Cleaning"
   ]
  },
  {
   "cell_type": "markdown",
   "id": "7b07dfb8",
   "metadata": {},
   "source": [
    "Dropping 'agent', 'company', 'meal', 'reserved_room_type' and 'assigned_room_type' as it is of no use in my analysis"
   ]
  },
  {
   "cell_type": "code",
   "execution_count": 17,
   "id": "894493fe",
   "metadata": {},
   "outputs": [],
   "source": [
    "df.drop(['agent','company','meal','reserved_room_type','assigned_room_type'],axis= 1, inplace= True)"
   ]
  },
  {
   "cell_type": "code",
   "execution_count": 18,
   "id": "31feb4d3",
   "metadata": {},
   "outputs": [
    {
     "data": {
      "text/plain": [
       "False"
      ]
     },
     "execution_count": 18,
     "metadata": {},
     "output_type": "execute_result"
    }
   ],
   "source": [
    "'agent' in df.columns"
   ]
  },
  {
   "cell_type": "code",
   "execution_count": 19,
   "id": "1650caad",
   "metadata": {},
   "outputs": [
    {
     "data": {
      "text/plain": [
       "False"
      ]
     },
     "execution_count": 19,
     "metadata": {},
     "output_type": "execute_result"
    }
   ],
   "source": [
    "'company' in df.columns"
   ]
  },
  {
   "cell_type": "code",
   "execution_count": 20,
   "id": "16f0037c",
   "metadata": {},
   "outputs": [
    {
     "data": {
      "text/plain": [
       "False"
      ]
     },
     "execution_count": 20,
     "metadata": {},
     "output_type": "execute_result"
    }
   ],
   "source": [
    "'meal' in df.columns"
   ]
  },
  {
   "cell_type": "code",
   "execution_count": 21,
   "id": "f17759af",
   "metadata": {},
   "outputs": [
    {
     "data": {
      "text/plain": [
       "False"
      ]
     },
     "execution_count": 21,
     "metadata": {},
     "output_type": "execute_result"
    }
   ],
   "source": [
    "'reserved_room_type' in df.columns"
   ]
  },
  {
   "cell_type": "code",
   "execution_count": 22,
   "id": "0b9a3d93",
   "metadata": {},
   "outputs": [
    {
     "data": {
      "text/plain": [
       "False"
      ]
     },
     "execution_count": 22,
     "metadata": {},
     "output_type": "execute_result"
    }
   ],
   "source": [
    "'assigned_room_type' in df.columns"
   ]
  },
  {
   "cell_type": "markdown",
   "id": "01f7204c",
   "metadata": {},
   "source": [
    "This assures that now these columns have been dropped from the dataset"
   ]
  },
  {
   "cell_type": "code",
   "execution_count": 23,
   "id": "37afdd24",
   "metadata": {},
   "outputs": [
    {
     "data": {
      "text/html": [
       "<div>\n",
       "<style scoped>\n",
       "    .dataframe tbody tr th:only-of-type {\n",
       "        vertical-align: middle;\n",
       "    }\n",
       "\n",
       "    .dataframe tbody tr th {\n",
       "        vertical-align: top;\n",
       "    }\n",
       "\n",
       "    .dataframe thead th {\n",
       "        text-align: right;\n",
       "    }\n",
       "</style>\n",
       "<table border=\"1\" class=\"dataframe\">\n",
       "  <thead>\n",
       "    <tr style=\"text-align: right;\">\n",
       "      <th></th>\n",
       "      <th>hotel</th>\n",
       "      <th>is_canceled</th>\n",
       "      <th>lead_time</th>\n",
       "      <th>arrival_date_year</th>\n",
       "      <th>arrival_date_month</th>\n",
       "      <th>arrival_date_week_number</th>\n",
       "      <th>arrival_date_day_of_month</th>\n",
       "      <th>stays_in_weekend_nights</th>\n",
       "      <th>stays_in_week_nights</th>\n",
       "      <th>adults</th>\n",
       "      <th>...</th>\n",
       "      <th>previous_bookings_not_canceled</th>\n",
       "      <th>booking_changes</th>\n",
       "      <th>deposit_type</th>\n",
       "      <th>days_in_waiting_list</th>\n",
       "      <th>customer_type</th>\n",
       "      <th>adr</th>\n",
       "      <th>required_car_parking_spaces</th>\n",
       "      <th>total_of_special_requests</th>\n",
       "      <th>reservation_status</th>\n",
       "      <th>reservation_status_date</th>\n",
       "    </tr>\n",
       "  </thead>\n",
       "  <tbody>\n",
       "    <tr>\n",
       "      <th>79513</th>\n",
       "      <td>City Hotel</td>\n",
       "      <td>1</td>\n",
       "      <td>81</td>\n",
       "      <td>2015</td>\n",
       "      <td>December</td>\n",
       "      <td>53</td>\n",
       "      <td>30</td>\n",
       "      <td>0</td>\n",
       "      <td>3</td>\n",
       "      <td>2</td>\n",
       "      <td>...</td>\n",
       "      <td>0</td>\n",
       "      <td>0</td>\n",
       "      <td>No Deposit</td>\n",
       "      <td>0</td>\n",
       "      <td>Contract</td>\n",
       "      <td>111.00</td>\n",
       "      <td>0</td>\n",
       "      <td>1</td>\n",
       "      <td>Canceled</td>\n",
       "      <td>28/10/2015</td>\n",
       "    </tr>\n",
       "    <tr>\n",
       "      <th>54062</th>\n",
       "      <td>City Hotel</td>\n",
       "      <td>1</td>\n",
       "      <td>245</td>\n",
       "      <td>2016</td>\n",
       "      <td>July</td>\n",
       "      <td>28</td>\n",
       "      <td>6</td>\n",
       "      <td>2</td>\n",
       "      <td>4</td>\n",
       "      <td>1</td>\n",
       "      <td>...</td>\n",
       "      <td>0</td>\n",
       "      <td>0</td>\n",
       "      <td>Non Refund</td>\n",
       "      <td>0</td>\n",
       "      <td>Transient</td>\n",
       "      <td>110.00</td>\n",
       "      <td>0</td>\n",
       "      <td>0</td>\n",
       "      <td>Canceled</td>\n",
       "      <td>23/2/2016</td>\n",
       "    </tr>\n",
       "    <tr>\n",
       "      <th>15843</th>\n",
       "      <td>Resort Hotel</td>\n",
       "      <td>0</td>\n",
       "      <td>35</td>\n",
       "      <td>2015</td>\n",
       "      <td>July</td>\n",
       "      <td>31</td>\n",
       "      <td>29</td>\n",
       "      <td>2</td>\n",
       "      <td>4</td>\n",
       "      <td>2</td>\n",
       "      <td>...</td>\n",
       "      <td>0</td>\n",
       "      <td>1</td>\n",
       "      <td>No Deposit</td>\n",
       "      <td>0</td>\n",
       "      <td>Transient</td>\n",
       "      <td>170.33</td>\n",
       "      <td>0</td>\n",
       "      <td>1</td>\n",
       "      <td>Check-Out</td>\n",
       "      <td>4/8/2015</td>\n",
       "    </tr>\n",
       "    <tr>\n",
       "      <th>69386</th>\n",
       "      <td>City Hotel</td>\n",
       "      <td>1</td>\n",
       "      <td>186</td>\n",
       "      <td>2017</td>\n",
       "      <td>May</td>\n",
       "      <td>22</td>\n",
       "      <td>30</td>\n",
       "      <td>0</td>\n",
       "      <td>2</td>\n",
       "      <td>2</td>\n",
       "      <td>...</td>\n",
       "      <td>0</td>\n",
       "      <td>0</td>\n",
       "      <td>Non Refund</td>\n",
       "      <td>0</td>\n",
       "      <td>Transient</td>\n",
       "      <td>130.00</td>\n",
       "      <td>0</td>\n",
       "      <td>0</td>\n",
       "      <td>Canceled</td>\n",
       "      <td>25/11/2016</td>\n",
       "    </tr>\n",
       "    <tr>\n",
       "      <th>20613</th>\n",
       "      <td>Resort Hotel</td>\n",
       "      <td>0</td>\n",
       "      <td>11</td>\n",
       "      <td>2016</td>\n",
       "      <td>February</td>\n",
       "      <td>6</td>\n",
       "      <td>1</td>\n",
       "      <td>1</td>\n",
       "      <td>3</td>\n",
       "      <td>1</td>\n",
       "      <td>...</td>\n",
       "      <td>0</td>\n",
       "      <td>0</td>\n",
       "      <td>No Deposit</td>\n",
       "      <td>0</td>\n",
       "      <td>Transient</td>\n",
       "      <td>27.00</td>\n",
       "      <td>0</td>\n",
       "      <td>0</td>\n",
       "      <td>Check-Out</td>\n",
       "      <td>5/2/2016</td>\n",
       "    </tr>\n",
       "  </tbody>\n",
       "</table>\n",
       "<p>5 rows × 27 columns</p>\n",
       "</div>"
      ],
      "text/plain": [
       "              hotel  is_canceled  lead_time  arrival_date_year  \\\n",
       "79513    City Hotel            1         81               2015   \n",
       "54062    City Hotel            1        245               2016   \n",
       "15843  Resort Hotel            0         35               2015   \n",
       "69386    City Hotel            1        186               2017   \n",
       "20613  Resort Hotel            0         11               2016   \n",
       "\n",
       "      arrival_date_month  arrival_date_week_number  arrival_date_day_of_month  \\\n",
       "79513           December                        53                         30   \n",
       "54062               July                        28                          6   \n",
       "15843               July                        31                         29   \n",
       "69386                May                        22                         30   \n",
       "20613           February                         6                          1   \n",
       "\n",
       "       stays_in_weekend_nights  stays_in_week_nights  adults  ...  \\\n",
       "79513                        0                     3       2  ...   \n",
       "54062                        2                     4       1  ...   \n",
       "15843                        2                     4       2  ...   \n",
       "69386                        0                     2       2  ...   \n",
       "20613                        1                     3       1  ...   \n",
       "\n",
       "       previous_bookings_not_canceled  booking_changes deposit_type  \\\n",
       "79513                               0                0   No Deposit   \n",
       "54062                               0                0   Non Refund   \n",
       "15843                               0                1   No Deposit   \n",
       "69386                               0                0   Non Refund   \n",
       "20613                               0                0   No Deposit   \n",
       "\n",
       "      days_in_waiting_list customer_type     adr  required_car_parking_spaces  \\\n",
       "79513                    0      Contract  111.00                            0   \n",
       "54062                    0     Transient  110.00                            0   \n",
       "15843                    0     Transient  170.33                            0   \n",
       "69386                    0     Transient  130.00                            0   \n",
       "20613                    0     Transient   27.00                            0   \n",
       "\n",
       "       total_of_special_requests  reservation_status reservation_status_date  \n",
       "79513                          1            Canceled              28/10/2015  \n",
       "54062                          0            Canceled               23/2/2016  \n",
       "15843                          1           Check-Out                4/8/2015  \n",
       "69386                          0            Canceled              25/11/2016  \n",
       "20613                          0           Check-Out                5/2/2016  \n",
       "\n",
       "[5 rows x 27 columns]"
      ]
     },
     "execution_count": 23,
     "metadata": {},
     "output_type": "execute_result"
    }
   ],
   "source": [
    "df.sample(5)"
   ]
  },
  {
   "cell_type": "code",
   "execution_count": 24,
   "id": "450a305c",
   "metadata": {},
   "outputs": [
    {
     "data": {
      "text/plain": [
       "hotel                              object\n",
       "is_canceled                         int64\n",
       "lead_time                           int64\n",
       "arrival_date_year                   int64\n",
       "arrival_date_month                 object\n",
       "arrival_date_week_number            int64\n",
       "arrival_date_day_of_month           int64\n",
       "stays_in_weekend_nights             int64\n",
       "stays_in_week_nights                int64\n",
       "adults                              int64\n",
       "children                          float64\n",
       "babies                              int64\n",
       "country                            object\n",
       "market_segment                     object\n",
       "distribution_channel               object\n",
       "is_repeated_guest                   int64\n",
       "previous_cancellations              int64\n",
       "previous_bookings_not_canceled      int64\n",
       "booking_changes                     int64\n",
       "deposit_type                       object\n",
       "days_in_waiting_list                int64\n",
       "customer_type                      object\n",
       "adr                               float64\n",
       "required_car_parking_spaces         int64\n",
       "total_of_special_requests           int64\n",
       "reservation_status                 object\n",
       "reservation_status_date            object\n",
       "dtype: object"
      ]
     },
     "execution_count": 24,
     "metadata": {},
     "output_type": "execute_result"
    }
   ],
   "source": [
    "df.dtypes"
   ]
  },
  {
   "cell_type": "markdown",
   "id": "99b4894a",
   "metadata": {},
   "source": [
    "Now we will convert many columns to categorical data type"
   ]
  },
  {
   "cell_type": "code",
   "execution_count": 25,
   "id": "fe73505c",
   "metadata": {},
   "outputs": [],
   "source": [
    "df[['hotel','arrival_date_year','arrival_date_month','deposit_type','customer_type','reservation_status','market_segment','distribution_channel']] = df[['hotel','arrival_date_year','arrival_date_month','deposit_type','customer_type','reservation_status','market_segment','distribution_channel']].astype('category')"
   ]
  },
  {
   "cell_type": "markdown",
   "id": "a6d3aeb6",
   "metadata": {},
   "source": [
    "Converting is_canceled column to string"
   ]
  },
  {
   "cell_type": "code",
   "execution_count": 26,
   "id": "f49b3a6f",
   "metadata": {},
   "outputs": [],
   "source": [
    "df['is_canceled']= df['is_canceled'].astype('string')"
   ]
  },
  {
   "cell_type": "markdown",
   "id": "2d01d55c",
   "metadata": {},
   "source": [
    "Converting children column from float to int"
   ]
  },
  {
   "cell_type": "code",
   "execution_count": 27,
   "id": "c631b6bc",
   "metadata": {},
   "outputs": [],
   "source": [
    "df['children']= df['children'].fillna(0)\n",
    "df['children']= df['children'].astype('int')"
   ]
  },
  {
   "cell_type": "markdown",
   "id": "fa8eb96b",
   "metadata": {},
   "source": [
    "Converting reservation_status_date column to datetime format"
   ]
  },
  {
   "cell_type": "code",
   "execution_count": 28,
   "id": "9dc4198e",
   "metadata": {},
   "outputs": [],
   "source": [
    "df['reservation_status_date']= pd.to_datetime(df['reservation_status_date'], format= '%d/%m/%Y')"
   ]
  },
  {
   "cell_type": "code",
   "execution_count": 29,
   "id": "aa1c73c5",
   "metadata": {},
   "outputs": [
    {
     "name": "stdout",
     "output_type": "stream",
     "text": [
      "<class 'pandas.core.frame.DataFrame'>\n",
      "RangeIndex: 119390 entries, 0 to 119389\n",
      "Data columns (total 27 columns):\n",
      " #   Column                          Non-Null Count   Dtype         \n",
      "---  ------                          --------------   -----         \n",
      " 0   hotel                           119390 non-null  category      \n",
      " 1   is_canceled                     119390 non-null  string        \n",
      " 2   lead_time                       119390 non-null  int64         \n",
      " 3   arrival_date_year               119390 non-null  category      \n",
      " 4   arrival_date_month              119390 non-null  category      \n",
      " 5   arrival_date_week_number        119390 non-null  int64         \n",
      " 6   arrival_date_day_of_month       119390 non-null  int64         \n",
      " 7   stays_in_weekend_nights         119390 non-null  int64         \n",
      " 8   stays_in_week_nights            119390 non-null  int64         \n",
      " 9   adults                          119390 non-null  int64         \n",
      " 10  children                        119390 non-null  int64         \n",
      " 11  babies                          119390 non-null  int64         \n",
      " 12  country                         118902 non-null  object        \n",
      " 13  market_segment                  119390 non-null  category      \n",
      " 14  distribution_channel            119390 non-null  category      \n",
      " 15  is_repeated_guest               119390 non-null  int64         \n",
      " 16  previous_cancellations          119390 non-null  int64         \n",
      " 17  previous_bookings_not_canceled  119390 non-null  int64         \n",
      " 18  booking_changes                 119390 non-null  int64         \n",
      " 19  deposit_type                    119390 non-null  category      \n",
      " 20  days_in_waiting_list            119390 non-null  int64         \n",
      " 21  customer_type                   119390 non-null  category      \n",
      " 22  adr                             119390 non-null  float64       \n",
      " 23  required_car_parking_spaces     119390 non-null  int64         \n",
      " 24  total_of_special_requests       119390 non-null  int64         \n",
      " 25  reservation_status              119390 non-null  category      \n",
      " 26  reservation_status_date         119390 non-null  datetime64[ns]\n",
      "dtypes: category(8), datetime64[ns](1), float64(1), int64(15), object(1), string(1)\n",
      "memory usage: 18.2+ MB\n"
     ]
    }
   ],
   "source": [
    "df.info()"
   ]
  },
  {
   "cell_type": "markdown",
   "id": "7d17c33e",
   "metadata": {},
   "source": [
    "Now, I will check for NULL values "
   ]
  },
  {
   "cell_type": "code",
   "execution_count": 30,
   "id": "dd15d675",
   "metadata": {},
   "outputs": [
    {
     "data": {
      "text/plain": [
       "hotel                               0\n",
       "is_canceled                         0\n",
       "lead_time                           0\n",
       "arrival_date_year                   0\n",
       "arrival_date_month                  0\n",
       "arrival_date_week_number            0\n",
       "arrival_date_day_of_month           0\n",
       "stays_in_weekend_nights             0\n",
       "stays_in_week_nights                0\n",
       "adults                              0\n",
       "children                            0\n",
       "babies                              0\n",
       "country                           488\n",
       "market_segment                      0\n",
       "distribution_channel                0\n",
       "is_repeated_guest                   0\n",
       "previous_cancellations              0\n",
       "previous_bookings_not_canceled      0\n",
       "booking_changes                     0\n",
       "deposit_type                        0\n",
       "days_in_waiting_list                0\n",
       "customer_type                       0\n",
       "adr                                 0\n",
       "required_car_parking_spaces         0\n",
       "total_of_special_requests           0\n",
       "reservation_status                  0\n",
       "reservation_status_date             0\n",
       "dtype: int64"
      ]
     },
     "execution_count": 30,
     "metadata": {},
     "output_type": "execute_result"
    }
   ],
   "source": [
    "df.isnull().sum()"
   ]
  },
  {
   "cell_type": "code",
   "execution_count": 31,
   "id": "60bdc411",
   "metadata": {},
   "outputs": [
    {
     "data": {
      "text/plain": [
       "'PRT'"
      ]
     },
     "execution_count": 31,
     "metadata": {},
     "output_type": "execute_result"
    }
   ],
   "source": [
    "countrymode= df['country'].mode()[0]\n",
    "countrymode"
   ]
  },
  {
   "cell_type": "code",
   "execution_count": 32,
   "id": "eab6bb30",
   "metadata": {},
   "outputs": [],
   "source": [
    "df['country'].fillna(countrymode, inplace= True)"
   ]
  },
  {
   "cell_type": "markdown",
   "id": "e1de3acc",
   "metadata": {},
   "source": [
    "Filling PRT (Portugal) in the null spaces"
   ]
  },
  {
   "cell_type": "code",
   "execution_count": 33,
   "id": "26183543",
   "metadata": {},
   "outputs": [],
   "source": [
    "df['country'].fillna(countrymode, inplace= True)"
   ]
  },
  {
   "cell_type": "code",
   "execution_count": 34,
   "id": "67b406b5",
   "metadata": {},
   "outputs": [
    {
     "data": {
      "text/plain": [
       "0"
      ]
     },
     "execution_count": 34,
     "metadata": {},
     "output_type": "execute_result"
    }
   ],
   "source": [
    "df['country'].isnull().sum()"
   ]
  },
  {
   "cell_type": "markdown",
   "id": "b10ec348",
   "metadata": {},
   "source": [
    "We have checked that the NULL values are replaced"
   ]
  },
  {
   "cell_type": "code",
   "execution_count": 35,
   "id": "94cd869a",
   "metadata": {},
   "outputs": [
    {
     "data": {
      "text/html": [
       "<div>\n",
       "<style scoped>\n",
       "    .dataframe tbody tr th:only-of-type {\n",
       "        vertical-align: middle;\n",
       "    }\n",
       "\n",
       "    .dataframe tbody tr th {\n",
       "        vertical-align: top;\n",
       "    }\n",
       "\n",
       "    .dataframe thead th {\n",
       "        text-align: right;\n",
       "    }\n",
       "</style>\n",
       "<table border=\"1\" class=\"dataframe\">\n",
       "  <thead>\n",
       "    <tr style=\"text-align: right;\">\n",
       "      <th></th>\n",
       "      <th>lead_time</th>\n",
       "      <th>arrival_date_week_number</th>\n",
       "      <th>arrival_date_day_of_month</th>\n",
       "      <th>stays_in_weekend_nights</th>\n",
       "      <th>stays_in_week_nights</th>\n",
       "      <th>adults</th>\n",
       "      <th>children</th>\n",
       "      <th>babies</th>\n",
       "      <th>is_repeated_guest</th>\n",
       "      <th>previous_cancellations</th>\n",
       "      <th>previous_bookings_not_canceled</th>\n",
       "      <th>booking_changes</th>\n",
       "      <th>days_in_waiting_list</th>\n",
       "      <th>adr</th>\n",
       "      <th>required_car_parking_spaces</th>\n",
       "      <th>total_of_special_requests</th>\n",
       "      <th>reservation_status_date</th>\n",
       "    </tr>\n",
       "  </thead>\n",
       "  <tbody>\n",
       "    <tr>\n",
       "      <th>count</th>\n",
       "      <td>119390.000000</td>\n",
       "      <td>119390.000000</td>\n",
       "      <td>119390.000000</td>\n",
       "      <td>119390.000000</td>\n",
       "      <td>119390.000000</td>\n",
       "      <td>119390.000000</td>\n",
       "      <td>119390.000000</td>\n",
       "      <td>119390.000000</td>\n",
       "      <td>119390.000000</td>\n",
       "      <td>119390.000000</td>\n",
       "      <td>119390.000000</td>\n",
       "      <td>119390.000000</td>\n",
       "      <td>119390.000000</td>\n",
       "      <td>119390.000000</td>\n",
       "      <td>119390.000000</td>\n",
       "      <td>119390.000000</td>\n",
       "      <td>119390</td>\n",
       "    </tr>\n",
       "    <tr>\n",
       "      <th>mean</th>\n",
       "      <td>104.011416</td>\n",
       "      <td>27.165173</td>\n",
       "      <td>15.798241</td>\n",
       "      <td>0.927599</td>\n",
       "      <td>2.500302</td>\n",
       "      <td>1.856403</td>\n",
       "      <td>0.103886</td>\n",
       "      <td>0.007949</td>\n",
       "      <td>0.031912</td>\n",
       "      <td>0.087118</td>\n",
       "      <td>0.137097</td>\n",
       "      <td>0.221124</td>\n",
       "      <td>2.321149</td>\n",
       "      <td>101.831122</td>\n",
       "      <td>0.062518</td>\n",
       "      <td>0.571363</td>\n",
       "      <td>2016-07-30 00:24:47.883407104</td>\n",
       "    </tr>\n",
       "    <tr>\n",
       "      <th>min</th>\n",
       "      <td>0.000000</td>\n",
       "      <td>1.000000</td>\n",
       "      <td>1.000000</td>\n",
       "      <td>0.000000</td>\n",
       "      <td>0.000000</td>\n",
       "      <td>0.000000</td>\n",
       "      <td>0.000000</td>\n",
       "      <td>0.000000</td>\n",
       "      <td>0.000000</td>\n",
       "      <td>0.000000</td>\n",
       "      <td>0.000000</td>\n",
       "      <td>0.000000</td>\n",
       "      <td>0.000000</td>\n",
       "      <td>-6.380000</td>\n",
       "      <td>0.000000</td>\n",
       "      <td>0.000000</td>\n",
       "      <td>2014-10-17 00:00:00</td>\n",
       "    </tr>\n",
       "    <tr>\n",
       "      <th>25%</th>\n",
       "      <td>18.000000</td>\n",
       "      <td>16.000000</td>\n",
       "      <td>8.000000</td>\n",
       "      <td>0.000000</td>\n",
       "      <td>1.000000</td>\n",
       "      <td>2.000000</td>\n",
       "      <td>0.000000</td>\n",
       "      <td>0.000000</td>\n",
       "      <td>0.000000</td>\n",
       "      <td>0.000000</td>\n",
       "      <td>0.000000</td>\n",
       "      <td>0.000000</td>\n",
       "      <td>0.000000</td>\n",
       "      <td>69.290000</td>\n",
       "      <td>0.000000</td>\n",
       "      <td>0.000000</td>\n",
       "      <td>2016-02-01 00:00:00</td>\n",
       "    </tr>\n",
       "    <tr>\n",
       "      <th>50%</th>\n",
       "      <td>69.000000</td>\n",
       "      <td>28.000000</td>\n",
       "      <td>16.000000</td>\n",
       "      <td>1.000000</td>\n",
       "      <td>2.000000</td>\n",
       "      <td>2.000000</td>\n",
       "      <td>0.000000</td>\n",
       "      <td>0.000000</td>\n",
       "      <td>0.000000</td>\n",
       "      <td>0.000000</td>\n",
       "      <td>0.000000</td>\n",
       "      <td>0.000000</td>\n",
       "      <td>0.000000</td>\n",
       "      <td>94.575000</td>\n",
       "      <td>0.000000</td>\n",
       "      <td>0.000000</td>\n",
       "      <td>2016-08-07 00:00:00</td>\n",
       "    </tr>\n",
       "    <tr>\n",
       "      <th>75%</th>\n",
       "      <td>160.000000</td>\n",
       "      <td>38.000000</td>\n",
       "      <td>23.000000</td>\n",
       "      <td>2.000000</td>\n",
       "      <td>3.000000</td>\n",
       "      <td>2.000000</td>\n",
       "      <td>0.000000</td>\n",
       "      <td>0.000000</td>\n",
       "      <td>0.000000</td>\n",
       "      <td>0.000000</td>\n",
       "      <td>0.000000</td>\n",
       "      <td>0.000000</td>\n",
       "      <td>0.000000</td>\n",
       "      <td>126.000000</td>\n",
       "      <td>0.000000</td>\n",
       "      <td>1.000000</td>\n",
       "      <td>2017-02-08 00:00:00</td>\n",
       "    </tr>\n",
       "    <tr>\n",
       "      <th>max</th>\n",
       "      <td>737.000000</td>\n",
       "      <td>53.000000</td>\n",
       "      <td>31.000000</td>\n",
       "      <td>19.000000</td>\n",
       "      <td>50.000000</td>\n",
       "      <td>55.000000</td>\n",
       "      <td>10.000000</td>\n",
       "      <td>10.000000</td>\n",
       "      <td>1.000000</td>\n",
       "      <td>26.000000</td>\n",
       "      <td>72.000000</td>\n",
       "      <td>21.000000</td>\n",
       "      <td>391.000000</td>\n",
       "      <td>5400.000000</td>\n",
       "      <td>8.000000</td>\n",
       "      <td>5.000000</td>\n",
       "      <td>2017-09-14 00:00:00</td>\n",
       "    </tr>\n",
       "    <tr>\n",
       "      <th>std</th>\n",
       "      <td>106.863097</td>\n",
       "      <td>13.605138</td>\n",
       "      <td>8.780829</td>\n",
       "      <td>0.998613</td>\n",
       "      <td>1.908286</td>\n",
       "      <td>0.579261</td>\n",
       "      <td>0.398555</td>\n",
       "      <td>0.097436</td>\n",
       "      <td>0.175767</td>\n",
       "      <td>0.844336</td>\n",
       "      <td>1.497437</td>\n",
       "      <td>0.652306</td>\n",
       "      <td>17.594721</td>\n",
       "      <td>50.535790</td>\n",
       "      <td>0.245291</td>\n",
       "      <td>0.792798</td>\n",
       "      <td>NaN</td>\n",
       "    </tr>\n",
       "  </tbody>\n",
       "</table>\n",
       "</div>"
      ],
      "text/plain": [
       "           lead_time  arrival_date_week_number  arrival_date_day_of_month  \\\n",
       "count  119390.000000             119390.000000              119390.000000   \n",
       "mean      104.011416                 27.165173                  15.798241   \n",
       "min         0.000000                  1.000000                   1.000000   \n",
       "25%        18.000000                 16.000000                   8.000000   \n",
       "50%        69.000000                 28.000000                  16.000000   \n",
       "75%       160.000000                 38.000000                  23.000000   \n",
       "max       737.000000                 53.000000                  31.000000   \n",
       "std       106.863097                 13.605138                   8.780829   \n",
       "\n",
       "       stays_in_weekend_nights  stays_in_week_nights         adults  \\\n",
       "count            119390.000000         119390.000000  119390.000000   \n",
       "mean                  0.927599              2.500302       1.856403   \n",
       "min                   0.000000              0.000000       0.000000   \n",
       "25%                   0.000000              1.000000       2.000000   \n",
       "50%                   1.000000              2.000000       2.000000   \n",
       "75%                   2.000000              3.000000       2.000000   \n",
       "max                  19.000000             50.000000      55.000000   \n",
       "std                   0.998613              1.908286       0.579261   \n",
       "\n",
       "            children         babies  is_repeated_guest  \\\n",
       "count  119390.000000  119390.000000      119390.000000   \n",
       "mean        0.103886       0.007949           0.031912   \n",
       "min         0.000000       0.000000           0.000000   \n",
       "25%         0.000000       0.000000           0.000000   \n",
       "50%         0.000000       0.000000           0.000000   \n",
       "75%         0.000000       0.000000           0.000000   \n",
       "max        10.000000      10.000000           1.000000   \n",
       "std         0.398555       0.097436           0.175767   \n",
       "\n",
       "       previous_cancellations  previous_bookings_not_canceled  \\\n",
       "count           119390.000000                   119390.000000   \n",
       "mean                 0.087118                        0.137097   \n",
       "min                  0.000000                        0.000000   \n",
       "25%                  0.000000                        0.000000   \n",
       "50%                  0.000000                        0.000000   \n",
       "75%                  0.000000                        0.000000   \n",
       "max                 26.000000                       72.000000   \n",
       "std                  0.844336                        1.497437   \n",
       "\n",
       "       booking_changes  days_in_waiting_list            adr  \\\n",
       "count    119390.000000         119390.000000  119390.000000   \n",
       "mean          0.221124              2.321149     101.831122   \n",
       "min           0.000000              0.000000      -6.380000   \n",
       "25%           0.000000              0.000000      69.290000   \n",
       "50%           0.000000              0.000000      94.575000   \n",
       "75%           0.000000              0.000000     126.000000   \n",
       "max          21.000000            391.000000    5400.000000   \n",
       "std           0.652306             17.594721      50.535790   \n",
       "\n",
       "       required_car_parking_spaces  total_of_special_requests  \\\n",
       "count                119390.000000              119390.000000   \n",
       "mean                      0.062518                   0.571363   \n",
       "min                       0.000000                   0.000000   \n",
       "25%                       0.000000                   0.000000   \n",
       "50%                       0.000000                   0.000000   \n",
       "75%                       0.000000                   1.000000   \n",
       "max                       8.000000                   5.000000   \n",
       "std                       0.245291                   0.792798   \n",
       "\n",
       "             reservation_status_date  \n",
       "count                         119390  \n",
       "mean   2016-07-30 00:24:47.883407104  \n",
       "min              2014-10-17 00:00:00  \n",
       "25%              2016-02-01 00:00:00  \n",
       "50%              2016-08-07 00:00:00  \n",
       "75%              2017-02-08 00:00:00  \n",
       "max              2017-09-14 00:00:00  \n",
       "std                              NaN  "
      ]
     },
     "execution_count": 35,
     "metadata": {},
     "output_type": "execute_result"
    }
   ],
   "source": [
    "df.describe()"
   ]
  },
  {
   "cell_type": "markdown",
   "id": "8698a8aa",
   "metadata": {},
   "source": [
    "Removing outliers"
   ]
  },
  {
   "cell_type": "code",
   "execution_count": 36,
   "id": "2415ee11",
   "metadata": {},
   "outputs": [],
   "source": [
    "df= df[df['adults']<50]\n",
    "df= df[df['children']<5]\n",
    "df= df[df['babies']<5]"
   ]
  },
  {
   "cell_type": "code",
   "execution_count": 37,
   "id": "8b08dc2f",
   "metadata": {},
   "outputs": [
    {
     "data": {
      "text/html": [
       "<div>\n",
       "<style scoped>\n",
       "    .dataframe tbody tr th:only-of-type {\n",
       "        vertical-align: middle;\n",
       "    }\n",
       "\n",
       "    .dataframe tbody tr th {\n",
       "        vertical-align: top;\n",
       "    }\n",
       "\n",
       "    .dataframe thead th {\n",
       "        text-align: right;\n",
       "    }\n",
       "</style>\n",
       "<table border=\"1\" class=\"dataframe\">\n",
       "  <thead>\n",
       "    <tr style=\"text-align: right;\">\n",
       "      <th></th>\n",
       "      <th>lead_time</th>\n",
       "      <th>arrival_date_week_number</th>\n",
       "      <th>arrival_date_day_of_month</th>\n",
       "      <th>stays_in_weekend_nights</th>\n",
       "      <th>stays_in_week_nights</th>\n",
       "      <th>adults</th>\n",
       "      <th>children</th>\n",
       "      <th>babies</th>\n",
       "      <th>is_repeated_guest</th>\n",
       "      <th>previous_cancellations</th>\n",
       "      <th>previous_bookings_not_canceled</th>\n",
       "      <th>booking_changes</th>\n",
       "      <th>days_in_waiting_list</th>\n",
       "      <th>adr</th>\n",
       "      <th>required_car_parking_spaces</th>\n",
       "      <th>total_of_special_requests</th>\n",
       "      <th>reservation_status_date</th>\n",
       "    </tr>\n",
       "  </thead>\n",
       "  <tbody>\n",
       "    <tr>\n",
       "      <th>count</th>\n",
       "      <td>119385.000000</td>\n",
       "      <td>119385.000000</td>\n",
       "      <td>119385.000000</td>\n",
       "      <td>119385.000000</td>\n",
       "      <td>119385.000000</td>\n",
       "      <td>119385.000000</td>\n",
       "      <td>119385.000000</td>\n",
       "      <td>119385.000000</td>\n",
       "      <td>119385.000000</td>\n",
       "      <td>119385.000000</td>\n",
       "      <td>119385.000000</td>\n",
       "      <td>119385.00000</td>\n",
       "      <td>119385.000000</td>\n",
       "      <td>119385.000000</td>\n",
       "      <td>119385.000000</td>\n",
       "      <td>119385.000000</td>\n",
       "      <td>119385</td>\n",
       "    </tr>\n",
       "    <tr>\n",
       "      <th>mean</th>\n",
       "      <td>104.009264</td>\n",
       "      <td>27.165037</td>\n",
       "      <td>15.798517</td>\n",
       "      <td>0.927562</td>\n",
       "      <td>2.500281</td>\n",
       "      <td>1.855560</td>\n",
       "      <td>0.103807</td>\n",
       "      <td>0.007790</td>\n",
       "      <td>0.031914</td>\n",
       "      <td>0.087121</td>\n",
       "      <td>0.137103</td>\n",
       "      <td>0.22110</td>\n",
       "      <td>2.321246</td>\n",
       "      <td>101.832768</td>\n",
       "      <td>0.062520</td>\n",
       "      <td>0.571370</td>\n",
       "      <td>2016-07-30 00:48:59.705992960</td>\n",
       "    </tr>\n",
       "    <tr>\n",
       "      <th>min</th>\n",
       "      <td>0.000000</td>\n",
       "      <td>1.000000</td>\n",
       "      <td>1.000000</td>\n",
       "      <td>0.000000</td>\n",
       "      <td>0.000000</td>\n",
       "      <td>0.000000</td>\n",
       "      <td>0.000000</td>\n",
       "      <td>0.000000</td>\n",
       "      <td>0.000000</td>\n",
       "      <td>0.000000</td>\n",
       "      <td>0.000000</td>\n",
       "      <td>0.00000</td>\n",
       "      <td>0.000000</td>\n",
       "      <td>-6.380000</td>\n",
       "      <td>0.000000</td>\n",
       "      <td>0.000000</td>\n",
       "      <td>2014-10-17 00:00:00</td>\n",
       "    </tr>\n",
       "    <tr>\n",
       "      <th>25%</th>\n",
       "      <td>18.000000</td>\n",
       "      <td>16.000000</td>\n",
       "      <td>8.000000</td>\n",
       "      <td>0.000000</td>\n",
       "      <td>1.000000</td>\n",
       "      <td>2.000000</td>\n",
       "      <td>0.000000</td>\n",
       "      <td>0.000000</td>\n",
       "      <td>0.000000</td>\n",
       "      <td>0.000000</td>\n",
       "      <td>0.000000</td>\n",
       "      <td>0.00000</td>\n",
       "      <td>0.000000</td>\n",
       "      <td>69.290000</td>\n",
       "      <td>0.000000</td>\n",
       "      <td>0.000000</td>\n",
       "      <td>2016-02-02 00:00:00</td>\n",
       "    </tr>\n",
       "    <tr>\n",
       "      <th>50%</th>\n",
       "      <td>69.000000</td>\n",
       "      <td>28.000000</td>\n",
       "      <td>16.000000</td>\n",
       "      <td>1.000000</td>\n",
       "      <td>2.000000</td>\n",
       "      <td>2.000000</td>\n",
       "      <td>0.000000</td>\n",
       "      <td>0.000000</td>\n",
       "      <td>0.000000</td>\n",
       "      <td>0.000000</td>\n",
       "      <td>0.000000</td>\n",
       "      <td>0.00000</td>\n",
       "      <td>0.000000</td>\n",
       "      <td>94.590000</td>\n",
       "      <td>0.000000</td>\n",
       "      <td>0.000000</td>\n",
       "      <td>2016-08-07 00:00:00</td>\n",
       "    </tr>\n",
       "    <tr>\n",
       "      <th>75%</th>\n",
       "      <td>160.000000</td>\n",
       "      <td>38.000000</td>\n",
       "      <td>23.000000</td>\n",
       "      <td>2.000000</td>\n",
       "      <td>3.000000</td>\n",
       "      <td>2.000000</td>\n",
       "      <td>0.000000</td>\n",
       "      <td>0.000000</td>\n",
       "      <td>0.000000</td>\n",
       "      <td>0.000000</td>\n",
       "      <td>0.000000</td>\n",
       "      <td>0.00000</td>\n",
       "      <td>0.000000</td>\n",
       "      <td>126.000000</td>\n",
       "      <td>0.000000</td>\n",
       "      <td>1.000000</td>\n",
       "      <td>2017-02-08 00:00:00</td>\n",
       "    </tr>\n",
       "    <tr>\n",
       "      <th>max</th>\n",
       "      <td>737.000000</td>\n",
       "      <td>53.000000</td>\n",
       "      <td>31.000000</td>\n",
       "      <td>19.000000</td>\n",
       "      <td>50.000000</td>\n",
       "      <td>40.000000</td>\n",
       "      <td>3.000000</td>\n",
       "      <td>2.000000</td>\n",
       "      <td>1.000000</td>\n",
       "      <td>26.000000</td>\n",
       "      <td>72.000000</td>\n",
       "      <td>21.00000</td>\n",
       "      <td>391.000000</td>\n",
       "      <td>5400.000000</td>\n",
       "      <td>8.000000</td>\n",
       "      <td>5.000000</td>\n",
       "      <td>2017-09-14 00:00:00</td>\n",
       "    </tr>\n",
       "    <tr>\n",
       "      <th>std</th>\n",
       "      <td>106.860471</td>\n",
       "      <td>13.605086</td>\n",
       "      <td>8.780885</td>\n",
       "      <td>0.998582</td>\n",
       "      <td>1.908182</td>\n",
       "      <td>0.540813</td>\n",
       "      <td>0.397533</td>\n",
       "      <td>0.089334</td>\n",
       "      <td>0.175771</td>\n",
       "      <td>0.844354</td>\n",
       "      <td>1.497468</td>\n",
       "      <td>0.65229</td>\n",
       "      <td>17.595083</td>\n",
       "      <td>50.535020</td>\n",
       "      <td>0.245296</td>\n",
       "      <td>0.792808</td>\n",
       "      <td>NaN</td>\n",
       "    </tr>\n",
       "  </tbody>\n",
       "</table>\n",
       "</div>"
      ],
      "text/plain": [
       "           lead_time  arrival_date_week_number  arrival_date_day_of_month  \\\n",
       "count  119385.000000             119385.000000              119385.000000   \n",
       "mean      104.009264                 27.165037                  15.798517   \n",
       "min         0.000000                  1.000000                   1.000000   \n",
       "25%        18.000000                 16.000000                   8.000000   \n",
       "50%        69.000000                 28.000000                  16.000000   \n",
       "75%       160.000000                 38.000000                  23.000000   \n",
       "max       737.000000                 53.000000                  31.000000   \n",
       "std       106.860471                 13.605086                   8.780885   \n",
       "\n",
       "       stays_in_weekend_nights  stays_in_week_nights         adults  \\\n",
       "count            119385.000000         119385.000000  119385.000000   \n",
       "mean                  0.927562              2.500281       1.855560   \n",
       "min                   0.000000              0.000000       0.000000   \n",
       "25%                   0.000000              1.000000       2.000000   \n",
       "50%                   1.000000              2.000000       2.000000   \n",
       "75%                   2.000000              3.000000       2.000000   \n",
       "max                  19.000000             50.000000      40.000000   \n",
       "std                   0.998582              1.908182       0.540813   \n",
       "\n",
       "            children         babies  is_repeated_guest  \\\n",
       "count  119385.000000  119385.000000      119385.000000   \n",
       "mean        0.103807       0.007790           0.031914   \n",
       "min         0.000000       0.000000           0.000000   \n",
       "25%         0.000000       0.000000           0.000000   \n",
       "50%         0.000000       0.000000           0.000000   \n",
       "75%         0.000000       0.000000           0.000000   \n",
       "max         3.000000       2.000000           1.000000   \n",
       "std         0.397533       0.089334           0.175771   \n",
       "\n",
       "       previous_cancellations  previous_bookings_not_canceled  \\\n",
       "count           119385.000000                   119385.000000   \n",
       "mean                 0.087121                        0.137103   \n",
       "min                  0.000000                        0.000000   \n",
       "25%                  0.000000                        0.000000   \n",
       "50%                  0.000000                        0.000000   \n",
       "75%                  0.000000                        0.000000   \n",
       "max                 26.000000                       72.000000   \n",
       "std                  0.844354                        1.497468   \n",
       "\n",
       "       booking_changes  days_in_waiting_list            adr  \\\n",
       "count     119385.00000         119385.000000  119385.000000   \n",
       "mean           0.22110              2.321246     101.832768   \n",
       "min            0.00000              0.000000      -6.380000   \n",
       "25%            0.00000              0.000000      69.290000   \n",
       "50%            0.00000              0.000000      94.590000   \n",
       "75%            0.00000              0.000000     126.000000   \n",
       "max           21.00000            391.000000    5400.000000   \n",
       "std            0.65229             17.595083      50.535020   \n",
       "\n",
       "       required_car_parking_spaces  total_of_special_requests  \\\n",
       "count                119385.000000              119385.000000   \n",
       "mean                      0.062520                   0.571370   \n",
       "min                       0.000000                   0.000000   \n",
       "25%                       0.000000                   0.000000   \n",
       "50%                       0.000000                   0.000000   \n",
       "75%                       0.000000                   1.000000   \n",
       "max                       8.000000                   5.000000   \n",
       "std                       0.245296                   0.792808   \n",
       "\n",
       "             reservation_status_date  \n",
       "count                         119385  \n",
       "mean   2016-07-30 00:48:59.705992960  \n",
       "min              2014-10-17 00:00:00  \n",
       "25%              2016-02-02 00:00:00  \n",
       "50%              2016-08-07 00:00:00  \n",
       "75%              2017-02-08 00:00:00  \n",
       "max              2017-09-14 00:00:00  \n",
       "std                              NaN  "
      ]
     },
     "execution_count": 37,
     "metadata": {},
     "output_type": "execute_result"
    }
   ],
   "source": [
    "df.describe()"
   ]
  },
  {
   "cell_type": "markdown",
   "id": "bfb5885b",
   "metadata": {},
   "source": [
    "adr seems too high, we can fix it using IQR method, but first we'll verify"
   ]
  },
  {
   "cell_type": "code",
   "execution_count": 38,
   "id": "c23f424f",
   "metadata": {},
   "outputs": [
    {
     "data": {
      "text/plain": [
       "10.531174577708176"
      ]
     },
     "execution_count": 38,
     "metadata": {},
     "output_type": "execute_result"
    }
   ],
   "source": [
    "skewness= df['adr'].skew()\n",
    "skewness"
   ]
  },
  {
   "cell_type": "markdown",
   "id": "34b86cb1",
   "metadata": {},
   "source": [
    "![Skewness](skewness.png)"
   ]
  },
  {
   "cell_type": "markdown",
   "id": "62818a90",
   "metadata": {},
   "source": [
    "In our case, the distribution is positively skewed, as skewness > 0, so the tail lies on the right side"
   ]
  },
  {
   "cell_type": "code",
   "execution_count": 39,
   "id": "b34e3855",
   "metadata": {},
   "outputs": [
    {
     "data": {
      "text/plain": [
       "1013.292764080265"
      ]
     },
     "execution_count": 39,
     "metadata": {},
     "output_type": "execute_result"
    }
   ],
   "source": [
    "kurtosis= df['adr'].kurt()\n",
    "kurtosis"
   ]
  },
  {
   "cell_type": "markdown",
   "id": "d14dce61",
   "metadata": {},
   "source": [
    "![Skew](kurtosis.png)"
   ]
  },
  {
   "cell_type": "markdown",
   "id": "89567c5d",
   "metadata": {},
   "source": [
    "We have a leptokurtic distribution since our kurtosis >> 3, heavier tails than a normal distribution\n",
    "and sharper peaks, more chances of outliers. So this proves my hypothesis that adr has outliers"
   ]
  },
  {
   "cell_type": "markdown",
   "id": "886e7c5b",
   "metadata": {},
   "source": [
    "Using IQR method to remove outliers"
   ]
  },
  {
   "cell_type": "code",
   "execution_count": 40,
   "id": "4a865acc",
   "metadata": {},
   "outputs": [],
   "source": [
    "Q1= df['adr'].quantile(0.25)\n",
    "Q3= df['adr'].quantile(0.75)\n",
    "\n",
    "IQR= Q3 - Q1\n",
    "\n",
    "lowerlt= Q1 - 1.5*IQR\n",
    "upperlt= Q3 + 1.5*IQR\n",
    "\n",
    "df= df[(df['adr']>= lowerlt) & (df['adr']<= upperlt)]"
   ]
  },
  {
   "cell_type": "code",
   "execution_count": 41,
   "id": "c220ae43",
   "metadata": {},
   "outputs": [
    {
     "data": {
      "text/plain": [
       "211.03"
      ]
     },
     "execution_count": 41,
     "metadata": {},
     "output_type": "execute_result"
    }
   ],
   "source": [
    "df['adr'].max()"
   ]
  },
  {
   "cell_type": "markdown",
   "id": "2438ccc4",
   "metadata": {},
   "source": [
    "Earlier the ADR was 5400 which was too high, and now it is 211 after removing the outliers"
   ]
  },
  {
   "cell_type": "code",
   "execution_count": 42,
   "id": "6575b483",
   "metadata": {},
   "outputs": [
    {
     "data": {
      "text/plain": [
       "(115592, 27)"
      ]
     },
     "execution_count": 42,
     "metadata": {},
     "output_type": "execute_result"
    }
   ],
   "source": [
    "df.shape"
   ]
  },
  {
   "cell_type": "markdown",
   "id": "e46d2724",
   "metadata": {},
   "source": [
    "This is the final number of rows and columns after data cleaning"
   ]
  },
  {
   "cell_type": "markdown",
   "id": "f699f7fc",
   "metadata": {},
   "source": [
    "# Data Visualisation"
   ]
  },
  {
   "cell_type": "code",
   "execution_count": 43,
   "id": "38e81e32",
   "metadata": {},
   "outputs": [
    {
     "data": {
      "text/plain": [
       "is_canceled\n",
       "0    72840\n",
       "1    42752\n",
       "Name: count, dtype: Int64"
      ]
     },
     "execution_count": 43,
     "metadata": {},
     "output_type": "execute_result"
    }
   ],
   "source": [
    "df['is_canceled'].value_counts()"
   ]
  },
  {
   "cell_type": "code",
   "execution_count": 44,
   "id": "cc916826",
   "metadata": {},
   "outputs": [
    {
     "data": {
      "image/png": "[encoded data removed]",
      "text/plain": [
       "<Figure size 640x480 with 1 Axes>"
      ]
     },
     "metadata": {},
     "output_type": "display_data"
    }
   ],
   "source": [
    "plt.title(\"Cancellation Status\")\n",
    "plt.bar(['Not Cancelled', 'Cancelled'], df['is_canceled'].value_counts(), color= sb.color_palette('Set2'))\n",
    "plt.show()"
   ]
  },
  {
   "cell_type": "code",
   "execution_count": 45,
   "id": "ab7fc638",
   "metadata": {},
   "outputs": [
    {
     "data": {
      "text/plain": [
       "is_canceled\n",
       "0    0.630147\n",
       "1    0.369853\n",
       "Name: proportion, dtype: Float64"
      ]
     },
     "execution_count": 45,
     "metadata": {},
     "output_type": "execute_result"
    }
   ],
   "source": [
    "df['is_canceled'].value_counts(normalize=True)"
   ]
  },
  {
   "cell_type": "code",
   "execution_count": 46,
   "id": "a2a95dc1",
   "metadata": {},
   "outputs": [
    {
     "data": {
      "image/png": "[encoded data removed]",
      "text/plain": [
       "<Figure size 640x480 with 1 Axes>"
      ]
     },
     "metadata": {},
     "output_type": "display_data"
    }
   ],
   "source": [
    "plt.pie(df['is_canceled'].value_counts(normalize=True), labels= ['Not Cancelled', 'Cancelled'], colors= sb.color_palette('Set2'), autopct='%1.0f%%')\n",
    "plt.show()"
   ]
  },
  {
   "cell_type": "markdown",
   "id": "7f0d0210",
   "metadata": {},
   "source": [
    "We can see that the cancellation rate is 37%, now let's check which type of hotel has more higher number of cancellations"
   ]
  },
  {
   "cell_type": "code",
   "execution_count": 47,
   "id": "f6a63c49",
   "metadata": {},
   "outputs": [
    {
     "data": {
      "image/png": "[encoded data removed]",
      "text/plain": [
       "<Figure size 640x480 with 1 Axes>"
      ]
     },
     "metadata": {},
     "output_type": "display_data"
    }
   ],
   "source": [
    "plt.title(\"Cancellation rate in hotel types\")\n",
    "sb.countplot(x= 'hotel', hue= 'is_canceled', data= df, palette= sb.color_palette('Set2'))\n",
    "plt.xlabel('Hotel Type')\n",
    "plt.ylabel('Number of reservations')\n",
    "plt.legend(['Not cancelled', 'Cancelled'])\n",
    "plt.show()"
   ]
  },
  {
   "cell_type": "markdown",
   "id": "2af5fcb9",
   "metadata": {},
   "source": [
    "We can see that most cancellations come from city hotels"
   ]
  },
  {
   "cell_type": "code",
   "execution_count": 48,
   "id": "15009f2c",
   "metadata": {},
   "outputs": [
    {
     "data": {
      "text/plain": [
       "customer_type\n",
       "Transient          0.745129\n",
       "Transient-Party    0.214876\n",
       "Contract           0.035132\n",
       "Group              0.004862\n",
       "Name: proportion, dtype: float64"
      ]
     },
     "execution_count": 48,
     "metadata": {},
     "output_type": "execute_result"
    }
   ],
   "source": [
    "df['customer_type'].value_counts(normalize=True)"
   ]
  },
  {
   "cell_type": "code",
   "execution_count": 75,
   "id": "1aa78aaa",
   "metadata": {},
   "outputs": [
    {
     "data": {
      "image/png": "[encoded data removed]",
      "text/plain": [
       "<Figure size 640x480 with 1 Axes>"
      ]
     },
     "metadata": {},
     "output_type": "display_data"
    }
   ],
   "source": [
    "plt.pie(df['customer_type'].value_counts(normalize=True),labels= ['Transient', 'Transient-Party','Contract','Group'], colors= sb.color_palette('Set2'), autopct= '%1.1f')\n",
    "plt.show()"
   ]
  },
  {
   "cell_type": "markdown",
   "id": "814bb706",
   "metadata": {},
   "source": [
    "So Transient and Transient-Party contributes more than 95% in the hotel bookings"
   ]
  },
  {
   "cell_type": "code",
   "execution_count": 50,
   "id": "4b35a733",
   "metadata": {},
   "outputs": [
    {
     "data": {
      "image/png": "[encoded data removed]",
      "text/plain": [
       "<Figure size 1600x800 with 1 Axes>"
      ]
     },
     "metadata": {},
     "output_type": "display_data"
    }
   ],
   "source": [
    "df['month']= df['reservation_status_date'].dt.month #dt is an accessor\n",
    "plt.figure(figsize=(16,8))\n",
    "sb.countplot(x='month', hue='is_canceled', data= df, palette= sb.color_palette('Set2'))\n",
    "plt.legend(['Not canceled','Canceled'])\n",
    "plt.show()"
   ]
  },
  {
   "cell_type": "markdown",
   "id": "27dc4031",
   "metadata": {},
   "source": [
    "Most number of uncancelled bookings are in August and most number of cancellations are in January"
   ]
  },
  {
   "cell_type": "code",
   "execution_count": 51,
   "id": "b2cfcb1d",
   "metadata": {},
   "outputs": [
    {
     "data": {
      "text/plain": [
       "is_canceled\n",
       "0    0.729936\n",
       "1    0.270064\n",
       "Name: proportion, dtype: Float64"
      ]
     },
     "execution_count": 51,
     "metadata": {},
     "output_type": "execute_result"
    }
   ],
   "source": [
    "resort_hotel= df[df['hotel']== 'Resort Hotel']\n",
    "resort_hotel['is_canceled'].value_counts(normalize=True)"
   ]
  },
  {
   "cell_type": "code",
   "execution_count": 52,
   "id": "e0d460e7",
   "metadata": {},
   "outputs": [
    {
     "data": {
      "text/plain": [
       "is_canceled\n",
       "0    0.582127\n",
       "1    0.417873\n",
       "Name: proportion, dtype: Float64"
      ]
     },
     "execution_count": 52,
     "metadata": {},
     "output_type": "execute_result"
    }
   ],
   "source": [
    "city_hotel= df[df['hotel']== 'City Hotel']\n",
    "city_hotel['is_canceled'].value_counts(normalize=True)"
   ]
  },
  {
   "cell_type": "code",
   "execution_count": 53,
   "id": "82161a87",
   "metadata": {},
   "outputs": [],
   "source": [
    "resort_hotel= resort_hotel.groupby('reservation_status_date')['adr'].mean()\n",
    "city_hotel= city_hotel.groupby('reservation_status_date')['adr'].mean()"
   ]
  },
  {
   "cell_type": "markdown",
   "id": "f9c5151c",
   "metadata": {},
   "source": [
    "We will now print a line plot"
   ]
  },
  {
   "cell_type": "code",
   "execution_count": 54,
   "id": "e5ad9e6e",
   "metadata": {},
   "outputs": [
    {
     "data": {
      "image/png": "[encoded data removed]",
      "text/plain": [
       "<Figure size 2000x800 with 1 Axes>"
      ]
     },
     "metadata": {},
     "output_type": "display_data"
    }
   ],
   "source": [
    "plt.figure(figsize=(20,8))\n",
    "palette = sb.color_palette('Set2')\n",
    "plt.title('Average Daily Rate in City and Resort Hotels', fontsize= 22)\n",
    "plt.plot(resort_hotel.index, resort_hotel, label= 'Resort Hotel', color= palette[0])\n",
    "plt.plot(city_hotel.index, city_hotel, label= 'City Hotel', color= palette[1])\n",
    "plt.legend(['Resort Hotel','City Hotel'])\n",
    "plt.show()"
   ]
  },
  {
   "cell_type": "markdown",
   "id": "b47a2d40",
   "metadata": {},
   "source": [
    "Peak spikes exists because of weekends which is caused due to high prices,\n",
    "there is no specific hotel type which has a constant high or low price during the full timeline"
   ]
  },
  {
   "cell_type": "markdown",
   "id": "b748a144",
   "metadata": {},
   "source": [
    "Now we want to visualise the cancellations on different deposit type"
   ]
  },
  {
   "cell_type": "code",
   "execution_count": 55,
   "id": "623c7e61",
   "metadata": {},
   "outputs": [
    {
     "data": {
      "image/png": "[encoded data removed]",
      "text/plain": [
       "<Figure size 800x400 with 1 Axes>"
      ]
     },
     "metadata": {},
     "output_type": "display_data"
    }
   ],
   "source": [
    "plt.figure(figsize=(8,4))\n",
    "sb.countplot(x= df['deposit_type'], hue='is_canceled', data= df, palette= sb.color_palette('Set2'))\n",
    "plt.legend(['Not cancelled','Cancelled'])\n",
    "plt.show()"
   ]
  },
  {
   "cell_type": "markdown",
   "id": "ef3a9f95",
   "metadata": {},
   "source": [
    "We can see most number of bookings are no deposit, and can also find an unusual trend in non refundable deposit"
   ]
  },
  {
   "cell_type": "code",
   "execution_count": 60,
   "id": "a55cca4d",
   "metadata": {},
   "outputs": [
    {
     "data": {
      "text/plain": [
       "105.01741469997924"
      ]
     },
     "execution_count": 60,
     "metadata": {},
     "output_type": "execute_result"
    }
   ],
   "source": [
    "df['lead_time'].mean()"
   ]
  },
  {
   "cell_type": "code",
   "execution_count": 63,
   "id": "4be686cf",
   "metadata": {},
   "outputs": [],
   "source": [
    "sector= df[df['is_canceled']== '1']"
   ]
  },
  {
   "cell_type": "markdown",
   "id": "3706cba0",
   "metadata": {},
   "source": [
    "Comparing with string value '1' because we converted is_canceled column to string data type"
   ]
  },
  {
   "cell_type": "code",
   "execution_count": 71,
   "id": "ab268cc2",
   "metadata": {},
   "outputs": [
    {
     "data": {
      "text/plain": [
       "hotel\n",
       "City Hotel      13900\n",
       "Resort Hotel     3996\n",
       "Name: count, dtype: int64"
      ]
     },
     "execution_count": 71,
     "metadata": {},
     "output_type": "execute_result"
    }
   ],
   "source": [
    "sector[sector['lead_time']> sector['lead_time'].mean()]['hotel'].value_counts()"
   ]
  },
  {
   "cell_type": "code",
   "execution_count": 89,
   "id": "9a9f0f11",
   "metadata": {},
   "outputs": [
    {
     "data": {
      "image/png": "[encoded data removed]",
      "text/plain": [
       "<Figure size 640x480 with 1 Axes>"
      ]
     },
     "metadata": {},
     "output_type": "display_data"
    }
   ],
   "source": [
    "plt.title('Pie chart for percentage cancellations when lead time > average lead time')\n",
    "sector[sector['lead_time']> sector.lead_time.mean()]['hotel'].value_counts().plot(kind= 'pie', autopct= '%1.1f', colors= sb.color_palette('Set2'))\n",
    "plt.show()"
   ]
  },
  {
   "cell_type": "code",
   "execution_count": 91,
   "id": "e2b90f72",
   "metadata": {},
   "outputs": [
    {
     "data": {
      "image/png": "[encoded data removed]",
      "text/plain": [
       "<Figure size 640x480 with 1 Axes>"
      ]
     },
     "metadata": {},
     "output_type": "display_data"
    }
   ],
   "source": [
    "plt.title('Pie chart for percentage cancellations without any filters')\n",
    "sector['hotel'].value_counts().plot(kind='pie', autopct= '%1.1f', colors= sb.color_palette('Set2'))\n",
    "plt.show()"
   ]
  },
  {
   "cell_type": "markdown",
   "id": "4a7111f3",
   "metadata": {},
   "source": [
    "Lead time has no role as we compared the two pie charts above"
   ]
  },
  {
   "cell_type": "code",
   "execution_count": null,
   "id": "f0cb9dc7",
   "metadata": {},
   "outputs": [],
   "source": []
  }
 ],
 "metadata": {
  "kernelspec": {
   "display_name": "Python 3 (ipykernel)",
   "language": "python",
   "name": "python3"
  },
  "language_info": {
   "codemirror_mode": {
    "name": "ipython",
    "version": 3
   },
   "file_extension": ".py",
   "mimetype": "text/x-python",
   "name": "python",
   "nbconvert_exporter": "python",
   "pygments_lexer": "ipython3",
   "version": "3.11.7"
  }
 },
 "nbformat": 4,
 "nbformat_minor": 5
}
